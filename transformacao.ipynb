{
 "cells": [
  {
   "cell_type": "code",
   "execution_count": 1,
   "metadata": {},
   "outputs": [],
   "source": [
    "import pandas as pd\n",
    " \n",
    "# Importamos a biblioteca"
   ]
  },
  {
   "cell_type": "code",
   "execution_count": 2,
   "metadata": {},
   "outputs": [],
   "source": [
    "df_country = pd.read_csv('dados/country.csv')\n",
    "\n",
    "# Lendo o DF "
   ]
  },
  {
   "cell_type": "code",
   "execution_count": 3,
   "metadata": {},
   "outputs": [],
   "source": [
    "df_city = pd.read_csv('dados/city.csv')\n",
    "# Lendo o outro DF"
   ]
  },
  {
   "cell_type": "code",
   "execution_count": 4,
   "metadata": {},
   "outputs": [],
   "source": [
    "df_final = pd.merge(df_country, df_city, on='pais_id', how='inner')\n",
    "\n",
    "# Fazendo o JOIN entre os DF, sendo (pd.merge(df1, df2, on='coluna_em_comum', how='tipo_de_join'))"
   ]
  },
  {
   "cell_type": "code",
   "execution_count": 5,
   "metadata": {},
   "outputs": [
    {
     "data": {
      "text/html": [
       "<div>\n",
       "<style scoped>\n",
       "    .dataframe tbody tr th:only-of-type {\n",
       "        vertical-align: middle;\n",
       "    }\n",
       "\n",
       "    .dataframe tbody tr th {\n",
       "        vertical-align: top;\n",
       "    }\n",
       "\n",
       "    .dataframe thead th {\n",
       "        text-align: right;\n",
       "    }\n",
       "</style>\n",
       "<table border=\"1\" class=\"dataframe\">\n",
       "  <thead>\n",
       "    <tr style=\"text-align: right;\">\n",
       "      <th></th>\n",
       "      <th>pais_id</th>\n",
       "      <th>pais</th>\n",
       "      <th>id_cidade</th>\n",
       "      <th>cidade</th>\n",
       "    </tr>\n",
       "  </thead>\n",
       "  <tbody>\n",
       "    <tr>\n",
       "      <th>0</th>\n",
       "      <td>1</td>\n",
       "      <td>Afghanistan</td>\n",
       "      <td>251</td>\n",
       "      <td>Kabul</td>\n",
       "    </tr>\n",
       "    <tr>\n",
       "      <th>1</th>\n",
       "      <td>2</td>\n",
       "      <td>Algeria</td>\n",
       "      <td>59</td>\n",
       "      <td>Batna</td>\n",
       "    </tr>\n",
       "    <tr>\n",
       "      <th>2</th>\n",
       "      <td>2</td>\n",
       "      <td>Algeria</td>\n",
       "      <td>63</td>\n",
       "      <td>Béchar</td>\n",
       "    </tr>\n",
       "    <tr>\n",
       "      <th>3</th>\n",
       "      <td>2</td>\n",
       "      <td>Algeria</td>\n",
       "      <td>483</td>\n",
       "      <td>Skikda</td>\n",
       "    </tr>\n",
       "    <tr>\n",
       "      <th>4</th>\n",
       "      <td>3</td>\n",
       "      <td>American Samoa</td>\n",
       "      <td>516</td>\n",
       "      <td>Tafuna</td>\n",
       "    </tr>\n",
       "    <tr>\n",
       "      <th>...</th>\n",
       "      <td>...</td>\n",
       "      <td>...</td>\n",
       "      <td>...</td>\n",
       "      <td>...</td>\n",
       "    </tr>\n",
       "    <tr>\n",
       "      <th>595</th>\n",
       "      <td>107</td>\n",
       "      <td>Yemen</td>\n",
       "      <td>455</td>\n",
       "      <td>Sanaa</td>\n",
       "    </tr>\n",
       "    <tr>\n",
       "      <th>596</th>\n",
       "      <td>107</td>\n",
       "      <td>Yemen</td>\n",
       "      <td>518</td>\n",
       "      <td>Taizz</td>\n",
       "    </tr>\n",
       "    <tr>\n",
       "      <th>597</th>\n",
       "      <td>108</td>\n",
       "      <td>Yugoslavia</td>\n",
       "      <td>280</td>\n",
       "      <td>Kragujevac</td>\n",
       "    </tr>\n",
       "    <tr>\n",
       "      <th>598</th>\n",
       "      <td>108</td>\n",
       "      <td>Yugoslavia</td>\n",
       "      <td>368</td>\n",
       "      <td>Novi Sad</td>\n",
       "    </tr>\n",
       "    <tr>\n",
       "      <th>599</th>\n",
       "      <td>109</td>\n",
       "      <td>Zambia</td>\n",
       "      <td>272</td>\n",
       "      <td>Kitwe</td>\n",
       "    </tr>\n",
       "  </tbody>\n",
       "</table>\n",
       "<p>600 rows × 4 columns</p>\n",
       "</div>"
      ],
      "text/plain": [
       "     pais_id            pais  id_cidade      cidade\n",
       "0          1     Afghanistan        251       Kabul\n",
       "1          2         Algeria         59       Batna\n",
       "2          2         Algeria         63      Béchar\n",
       "3          2         Algeria        483      Skikda\n",
       "4          3  American Samoa        516      Tafuna\n",
       "..       ...             ...        ...         ...\n",
       "595      107           Yemen        455       Sanaa\n",
       "596      107           Yemen        518       Taizz\n",
       "597      108      Yugoslavia        280  Kragujevac\n",
       "598      108      Yugoslavia        368    Novi Sad\n",
       "599      109          Zambia        272       Kitwe\n",
       "\n",
       "[600 rows x 4 columns]"
      ]
     },
     "execution_count": 5,
     "metadata": {},
     "output_type": "execute_result"
    }
   ],
   "source": [
    "df_final\n",
    "\n",
    "# Vizualizando o resultado final"
   ]
  },
  {
   "cell_type": "code",
   "execution_count": 6,
   "metadata": {},
   "outputs": [],
   "source": [
    "df_final.to_csv('dados/final.csv', index=False)\n",
    "\n",
    "# Salvando o DF final"
   ]
  }
 ],
 "metadata": {
  "kernelspec": {
   "display_name": "Python 3",
   "language": "python",
   "name": "python3"
  },
  "language_info": {
   "codemirror_mode": {
    "name": "ipython",
    "version": 3
   },
   "file_extension": ".py",
   "mimetype": "text/x-python",
   "name": "python",
   "nbconvert_exporter": "python",
   "pygments_lexer": "ipython3",
   "version": "3.11.2"
  },
  "orig_nbformat": 4
 },
 "nbformat": 4,
 "nbformat_minor": 2
}
