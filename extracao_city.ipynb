{
 "cells": [
  {
   "cell_type": "code",
   "execution_count": 2,
   "metadata": {},
   "outputs": [],
   "source": [
    "import pandas as pd\n",
    "import mysql.connector\n",
    "\n",
    "# Lembre-se de instalar estas bibliotecas no seu \n",
    "# ambiente/terminal antes de rodar o código\n",
    "#####\n",
    "# pip install pandas\n",
    "# pip install mysql-connector-python"
   ]
  },
  {
   "cell_type": "code",
   "execution_count": 3,
   "metadata": {},
   "outputs": [],
   "source": [
    "config = {\n",
    "    'user': 'root',\n",
    "    'password': '123456',\n",
    "    'host': 'localhost',\n",
    "    'database': 'sakila',\n",
    "}\n",
    "\n",
    "# Neste dicionário você deve incluir as informações\n",
    "# do seu banco de dados, sendo o usuário, a senha,\n",
    "# o host/ip e o banco de dados que será utilizado"
   ]
  },
  {
   "cell_type": "code",
   "execution_count": 4,
   "metadata": {},
   "outputs": [],
   "source": [
    "conexao = mysql.connector.connect(**config)\n",
    "cursor = conexao.cursor()\n",
    "\n",
    "# Essa célula é a responsável por fazer a conexão\n",
    "# com o banco de dados"
   ]
  },
  {
   "cell_type": "code",
   "execution_count": 5,
   "metadata": {},
   "outputs": [],
   "source": [
    "query = \"SELECT * FROM city\"\n",
    "cursor.execute(query)\n",
    "\n",
    "# Nesta célula nós executamos a query SQL   "
   ]
  },
  {
   "cell_type": "code",
   "execution_count": 6,
   "metadata": {},
   "outputs": [],
   "source": [
    "id_cidade = []\n",
    "cidade = []\n",
    "pais_id = []\n",
    "\n",
    "for linha in cursor:\n",
    "    id_cidade.append(linha[0])\n",
    "    cidade.append(linha[1])\n",
    "    pais_id.append(linha[2])\n",
    "\n",
    "# O cursor retorna várias tuplas, que cada uma representa\n",
    "# uma linha, iteramos sobre ela e adicionamos os dados\n",
    "# nas listas"
   ]
  },
  {
   "cell_type": "code",
   "execution_count": 7,
   "metadata": {},
   "outputs": [],
   "source": [
    "cursor.close()\n",
    "conexao.close()\n",
    "\n",
    "# Por boa prática sempre devemos fechar a conexão, para\n",
    "# poupar os recursos e não gerar possíveis erros"
   ]
  },
  {
   "cell_type": "code",
   "execution_count": 8,
   "metadata": {},
   "outputs": [],
   "source": [
    "df = pd.DataFrame()\n",
    "\n",
    "df['id_cidade'] = id_cidade\n",
    "df['cidade'] = cidade\n",
    "df['pais_id'] = pais_id\n",
    "\n",
    "# Criamos um DataFrame e adicionamos os dados"
   ]
  },
  {
   "cell_type": "code",
   "execution_count": 10,
   "metadata": {},
   "outputs": [],
   "source": [
    "df.to_csv('dados/city.csv', index=False)\n",
    "\n",
    "# Salvamos o DF com os dados na pasta 'dados'"
   ]
  }
 ],
 "metadata": {
  "kernelspec": {
   "display_name": "Python 3",
   "language": "python",
   "name": "python3"
  },
  "language_info": {
   "codemirror_mode": {
    "name": "ipython",
    "version": 3
   },
   "file_extension": ".py",
   "mimetype": "text/x-python",
   "name": "python",
   "nbconvert_exporter": "python",
   "pygments_lexer": "ipython3",
   "version": "3.11.2"
  },
  "orig_nbformat": 4
 },
 "nbformat": 4,
 "nbformat_minor": 2
}
